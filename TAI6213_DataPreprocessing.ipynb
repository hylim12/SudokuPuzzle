{
 "cells": [
  {
   "cell_type": "code",
   "execution_count": 1,
   "id": "3578c8cb-067f-4cc1-8072-a3988dc984f3",
   "metadata": {},
   "outputs": [
    {
     "name": "stdout",
     "output_type": "stream",
     "text": [
      "Libraries loaded successfully!\n"
     ]
    }
   ],
   "source": [
    "#Import the libraries we need\n",
    "import pandas as pd  #For reading and handling our CSV file\n",
    "import numpy as np   #For working with numbers and arrays\n",
    "\n",
    "#Let's check if our imports worked\n",
    "print(\"Libraries loaded successfully!\")"
   ]
  },
  {
   "cell_type": "code",
   "execution_count": 3,
   "id": "9f60661e-7fbf-4fff-a9c1-039cb9d0f4f5",
   "metadata": {},
   "outputs": [
    {
     "name": "stdout",
     "output_type": "stream",
     "text": [
      "Reading the Sudoku dataset......\n",
      "\n",
      "Quick look at our dataset:\n",
      "Number of puzzles we have: 1000000\n",
      "\n",
      "First few rows of our data:\n",
      "                                             quizzes  \\\n",
      "0  0043002090050090010700600430060020871900074000...   \n",
      "1  0401000501070039605200080000000000170009068008...   \n",
      "2  6001203840084590720000060050002640300700800069...   \n",
      "3  4972000001004000050000160986203000403009000000...   \n",
      "4  0059103080094030600275001000300002010008200070...   \n",
      "\n",
      "                                           solutions  \n",
      "0  8643712593258497619712658434361925871986574322...  \n",
      "1  3461792581875239645296483719658324174729168358...  \n",
      "2  6951273841384596727248369158512647392739815469...  \n",
      "3  4972583161864397252537164986293815473759641828...  \n",
      "4  4659123781894735623275681497386452919548216372...  \n",
      "\n",
      "Do we have any missing values?\n",
      "quizzes      0\n",
      "solutions    0\n",
      "dtype: int64\n"
     ]
    }
   ],
   "source": [
    "#Read our Sudoku puzzles from the CSV file\n",
    "print(\"Reading the Sudoku dataset......\")\n",
    "sudoku_data = pd.read_csv('sudoku.csv')\n",
    "\n",
    "#Look at what we loaded\n",
    "print(\"\\nQuick look at our dataset:\")\n",
    "print(f\"Number of puzzles we have: {len(sudoku_data)}\")\n",
    "print(\"\\nFirst few rows of our data:\")\n",
    "print(sudoku_data.head())\n",
    "\n",
    "#Check if we have any missing data\n",
    "print(\"\\nDo we have any missing values?\")\n",
    "print(sudoku_data.isnull().sum())"
   ]
  },
  {
   "cell_type": "code",
   "execution_count": 9,
   "id": "5d099bab-7fbb-4a56-89ae-2deff9dc175a",
   "metadata": {},
   "outputs": [
    {
     "name": "stdout",
     "output_type": "stream",
     "text": [
      "Testing our first puzzle:\n",
      "Puzzle format is correct!\n"
     ]
    }
   ],
   "source": [
    "def check_puzzle_format(puzzle, solution):\n",
    "    \"\"\"\n",
    "    Makes sure our puzzle and solution are in the correct format\n",
    "    -Should be 81 characters long (9x9 grid)\n",
    "    -Puzzle should only have numbers 0-9\n",
    "    -Solution should only have numbers 1-9\n",
    "    \"\"\"\n",
    "    #Check if length is correct\n",
    "    if len(puzzle) != 81 or len(solution) != 81:\n",
    "        print(\"Wrong length!\")\n",
    "        return False\n",
    "    \n",
    "    #Check if we only have valid numbers\n",
    "    valid_puzzle_numbers = set('0123456789')\n",
    "    valid_solution_numbers = set('123456789')\n",
    "    \n",
    "    puzzle_numbers = set(puzzle)\n",
    "    solution_numbers = set(solution)\n",
    "    \n",
    "    #Return True if everything is correct\n",
    "    return (puzzle_numbers.issubset(valid_puzzle_numbers) and \n",
    "            solution_numbers.issubset(valid_solution_numbers))\n",
    "\n",
    "#Let's test our function with the first puzzle\n",
    "first_puzzle = sudoku_data['quizzes'].iloc[0]\n",
    "first_solution = sudoku_data['solutions'].iloc[0]\n",
    "\n",
    "print(\"Testing our first puzzle:\")\n",
    "if check_puzzle_format(first_puzzle, first_solution):\n",
    "    print(\"Puzzle format is correct!\")\n",
    "else:\n",
    "    print(\"Something is wrong with the puzzle format\")"
   ]
  },
  {
   "cell_type": "code",
   "execution_count": 11,
   "id": "d72a3b2d-26b7-4369-9b7a-970c0c524eb9",
   "metadata": {},
   "outputs": [
    {
     "name": "stdout",
     "output_type": "stream",
     "text": [
      "Our first puzzle as a grid:\n",
      "[0, 0, 4, 3, 0, 0, 2, 0, 9]\n",
      "[0, 0, 5, 0, 0, 9, 0, 0, 1]\n",
      "[0, 7, 0, 0, 6, 0, 0, 4, 3]\n",
      "[0, 0, 6, 0, 0, 2, 0, 8, 7]\n",
      "[1, 9, 0, 0, 0, 7, 4, 0, 0]\n",
      "[0, 5, 0, 0, 8, 3, 0, 0, 0]\n",
      "[6, 0, 0, 0, 0, 0, 1, 0, 5]\n",
      "[0, 0, 3, 5, 0, 8, 6, 9, 0]\n",
      "[0, 4, 2, 9, 1, 0, 3, 0, 0]\n"
     ]
    }
   ],
   "source": [
    "def make_grid(puzzle_string):\n",
    "    \"\"\"\n",
    "    Takes our puzzle string (81 characters) and makes it into a 9x9 grid\n",
    "    \"\"\"\n",
    "    grid = []\n",
    "    \n",
    "    #Take 9 numbers at a time to make each row\n",
    "    for i in range(0, 81, 9):\n",
    "        #Get the next 9 numbers and convert them to integers\n",
    "        row = [int(num) for num in puzzle_string[i:i+9]]\n",
    "        grid.append(row)\n",
    "    \n",
    "    return grid\n",
    "\n",
    "#Let's try it with our first puzzle\n",
    "print(\"Our first puzzle as a grid:\")\n",
    "puzzle_grid = make_grid(first_puzzle)\n",
    "for row in puzzle_grid:\n",
    "    print(row)  #Print each row so we can see the grid structure"
   ]
  },
  {
   "cell_type": "code",
   "execution_count": 13,
   "id": "99976e60-ec5e-4ff5-bcae-cd7cf3f29b26",
   "metadata": {},
   "outputs": [
    {
     "name": "stdout",
     "output_type": "stream",
     "text": [
      "Here's how our puzzle looks in LISP format:\n",
      ";; Sudoku Puzzle 1\n",
      "(defparameter *puzzle-1* '(\n",
      "  (0 0 4 3 0 0 2 0 9)\n",
      "  (0 0 5 0 0 9 0 0 1)\n",
      "  (0 7 0 0 6 0 0 4 3)\n",
      "  (0 0 6 0 0 2 0 8 7)\n",
      "  (1 9 0 0 0 7 4 0 0)\n",
      "  (0 5 0 0 8 3 0 0 0)\n",
      "  (6 0 0 0 0 0 1 0 5)\n",
      "  (0 0 3 5 0 8 6 9 0)\n",
      "  (0 4 2 9 1 0 3 0 0)\n",
      "))\n"
     ]
    }
   ],
   "source": [
    "def create_lisp_format(grid, puzzle_number):\n",
    "    \"\"\"\n",
    "    Converts our grid into LISP format\n",
    "    \"\"\"\n",
    "    #Start with a comment to identify the puzzle\n",
    "    lisp_text = [f\";; Sudoku Puzzle {puzzle_number}\"]\n",
    "    \n",
    "    #Create the LISP variable definition\n",
    "    lisp_text.append(f\"(defparameter *puzzle-{puzzle_number}* '(\")\n",
    "    \n",
    "    #Add each row of the grid\n",
    "    for row in grid:\n",
    "        row_text = f\"  ({' '.join(map(str, row))})\"\n",
    "        lisp_text.append(row_text)\n",
    "    \n",
    "    #Close the definition\n",
    "    lisp_text.append(\"))\")\n",
    "    \n",
    "    #Join all lines with newlines\n",
    "    return '\\n'.join(lisp_text)\n",
    "\n",
    "#Test our LISP format creator\n",
    "print(\"Here's how our puzzle looks in LISP format:\")\n",
    "lisp_puzzle = create_lisp_format(puzzle_grid, 1)\n",
    "print(lisp_puzzle)"
   ]
  },
  {
   "cell_type": "code",
   "execution_count": 15,
   "id": "0ae278f2-2bd9-480c-95bf-cf7bfbf72791",
   "metadata": {},
   "outputs": [
    {
     "name": "stdout",
     "output_type": "stream",
     "text": [
      "Creating LISP file with 100 puzzles...\n",
      "Finished! Created sudoku_puzzles.lisp\n"
     ]
    }
   ],
   "source": [
    "def save_puzzles_for_lisp(puzzles, solutions, num_puzzles=100):\n",
    "    \"\"\"\n",
    "    Creates a file with puzzles and solutions in LISP format\n",
    "    We'll use a small number of puzzles to keep things simple\n",
    "    \"\"\"\n",
    "    print(f\"Creating LISP file with {num_puzzles} puzzles...\")\n",
    "    \n",
    "    #Start our LISP file content\n",
    "    lisp_content = [\n",
    "        \";; Sudoku Puzzles for Our AI Project\",\n",
    "        \";; Each puzzle has an initial state and a goal state\"\n",
    "    ]\n",
    "    \n",
    "    #Process each puzzle\n",
    "    for i in range(num_puzzles):\n",
    "        #Get the puzzle and solution\n",
    "        puzzle = puzzles.iloc[i]\n",
    "        solution = solutions.iloc[i]\n",
    "        \n",
    "        #Convert to grids\n",
    "        puzzle_grid = make_grid(puzzle)\n",
    "        solution_grid = make_grid(solution)\n",
    "        \n",
    "        #Add the initial state (puzzle)\n",
    "        lisp_content.append(f\"\\n;; Puzzle {i+1}\")\n",
    "        lisp_content.append(f\"(defparameter *initial-state-{i+1}*\")\n",
    "        lisp_content.append(\"  '(\")\n",
    "        for row in puzzle_grid:\n",
    "            lisp_content.append(f\"    ({' '.join(map(str, row))})\")\n",
    "        lisp_content.append(\"  ))\")\n",
    "        \n",
    "        #Add the goal state (solution)\n",
    "        lisp_content.append(f\"\\n;; Solution {i+1}\")\n",
    "        lisp_content.append(f\"(defparameter *goal-state-{i+1}*\")\n",
    "        lisp_content.append(\"  '(\")\n",
    "        for row in solution_grid:\n",
    "            lisp_content.append(f\"    ({' '.join(map(str, row))})\")\n",
    "        lisp_content.append(\"  ))\")\n",
    "    \n",
    "    #Save everything to a file\n",
    "    with open('sudoku_puzzles.lisp', 'w') as file:\n",
    "        file.write('\\n'.join(lisp_content))\n",
    "    \n",
    "    print(\"Finished! Created sudoku_puzzles.lisp\")\n",
    "\n",
    "#Create our LISP file with 100 puzzles\n",
    "save_puzzles_for_lisp(\n",
    "    sudoku_data['quizzes'],\n",
    "    sudoku_data['solutions'],\n",
    "    num_puzzles=100\n",
    ")"
   ]
  }
 ],
 "metadata": {
  "kernelspec": {
   "display_name": "Python 3 (ipykernel)",
   "language": "python",
   "name": "python3"
  },
  "language_info": {
   "codemirror_mode": {
    "name": "ipython",
    "version": 3
   },
   "file_extension": ".py",
   "mimetype": "text/x-python",
   "name": "python",
   "nbconvert_exporter": "python",
   "pygments_lexer": "ipython3",
   "version": "3.12.4"
  }
 },
 "nbformat": 4,
 "nbformat_minor": 5
}
